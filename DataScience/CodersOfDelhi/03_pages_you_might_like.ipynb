{
 "cells": [
  {
   "cell_type": "code",
   "execution_count": 25,
   "id": "d27b016d-ce20-4e3f-8b5d-6ae0ccf343dd",
   "metadata": {},
   "outputs": [],
   "source": [
    "import json "
   ]
  },
  {
   "cell_type": "code",
   "execution_count": 26,
   "id": "b367c8af-3866-4562-b879-4ce0a74eb1ca",
   "metadata": {},
   "outputs": [],
   "source": [
    "def load_data(filename):\n",
    "    with open(filename, \"r\") as f:\n",
    "         return json.load(f)"
   ]
  },
  {
   "cell_type": "code",
   "execution_count": 27,
   "id": "25c235be-24f3-45a3-807b-a82cea956ff2",
   "metadata": {},
   "outputs": [],
   "source": [
    "data = load_data(\"cleaned_codebook_data.json\")"
   ]
  },
  {
   "cell_type": "code",
   "execution_count": 42,
   "id": "82172b66-fb88-4157-85b8-88f84db79ee2",
   "metadata": {},
   "outputs": [
    {
     "data": {
      "text/plain": [
       "[(103, 2), (105, 1), (107, 1)]"
      ]
     },
     "execution_count": 42,
     "metadata": {},
     "output_type": "execute_result"
    }
   ],
   "source": [
    "def pages_you_might_like(user_id, data):\n",
    "    user_pages = {}\n",
    "\n",
    "    for user in data['users']:\n",
    "        user_pages[user['id']] = set(user['liked_pages'])\n",
    "    \n",
    "\n",
    "    if user_id not in user_pages:\n",
    "        return []\n",
    "\n",
    "    user_liked_pages = user_pages[user_id]\n",
    "    \n",
    "\n",
    "    page_suggestion = {}\n",
    "\n",
    "    for other_user , pages in user_pages.items():\n",
    "        if user_id != other_user:\n",
    "            shared_pages = user_liked_pages.intersection(pages)    \n",
    "        for page in pages:\n",
    "            if page not in user_liked_pages:\n",
    "                page_suggestion[page] = page_suggestion.get(page, 0) + len(shared_pages)\n",
    "    \n",
    "    sorted_pages = sorted(page_suggestion.items(), key = lambda x : x[1], reverse = True)\n",
    "\n",
    "    return [(page_id, count) for page_id, count in sorted_pages if count >= 1]\n",
    "\n",
    "pages_you_might_like(1, data)"
   ]
  },
  {
   "cell_type": "code",
   "execution_count": null,
   "id": "ac6b50a9-9082-4923-aea1-8effe0f9f64d",
   "metadata": {},
   "outputs": [],
   "source": []
  }
 ],
 "metadata": {
  "kernelspec": {
   "display_name": "Python [conda env:base] *",
   "language": "python",
   "name": "conda-base-py"
  },
  "language_info": {
   "codemirror_mode": {
    "name": "ipython",
    "version": 3
   },
   "file_extension": ".py",
   "mimetype": "text/x-python",
   "name": "python",
   "nbconvert_exporter": "python",
   "pygments_lexer": "ipython3",
   "version": "3.13.5"
  }
 },
 "nbformat": 4,
 "nbformat_minor": 5
}
