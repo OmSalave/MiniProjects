{
 "cells": [
  {
   "cell_type": "code",
   "execution_count": 11,
   "id": "69e33c08-f7df-4278-af7f-a8aee18c1eee",
   "metadata": {},
   "outputs": [],
   "source": [
    "import json"
   ]
  },
  {
   "cell_type": "code",
   "execution_count": 12,
   "id": "59acf923-60f5-480a-b752-c22f2fa9f4cd",
   "metadata": {},
   "outputs": [],
   "source": [
    "def load_data(filename):\n",
    "    with open(filename, \"r\") as f:\n",
    "        data = json.load(f)\n",
    "        return data"
   ]
  },
  {
   "cell_type": "code",
   "execution_count": 13,
   "id": "2dd980a9-c25d-4528-9fce-f096b31c131f",
   "metadata": {},
   "outputs": [],
   "source": [
    "data = load_data(\"data.json\")"
   ]
  },
  {
   "cell_type": "code",
   "execution_count": 14,
   "id": "09460ac9-7208-43f4-805c-5d651f5b92bd",
   "metadata": {},
   "outputs": [],
   "source": [
    "def clean_data(data):\n",
    "    # remove names with empty value\n",
    "    data[\"users\"] = [user for user in data[\"users\"] if user[\"name\"].strip()]\n",
    "    \n",
    "    # remove duplicate friends \n",
    "    for user in data[\"users\"]:\n",
    "        user[\"friends\"] = list(set(user[\"friends\"]))\n",
    "    \n",
    "    # remove inactive users \n",
    "    data[\"users\"] = [user for user in data[\"users\"] if user[\"friends\"] or user[\"liked_pages\"]]\n",
    "\n",
    "    # remove duplicate pages \n",
    "    unique = {}\n",
    "    for page in data[\"pages\"]:\n",
    "        unique[page[\"id\"]] = page\n",
    "    data[\"pages\"] = list(unique.values())\n",
    "\n",
    "    \n",
    "    return data\n",
    "\n",
    "data = clean_data(data)"
   ]
  },
  {
   "cell_type": "code",
   "execution_count": 15,
   "id": "0390fba7-91a7-4866-8f99-d753c5c1554b",
   "metadata": {},
   "outputs": [],
   "source": [
    "def dump_data(data):\n",
    "    json.dump(data, open(\"cleaned_codebook_data.json\", \"w\"), indent = 4)\n",
    "dump_data(data)"
   ]
  },
  {
   "cell_type": "code",
   "execution_count": null,
   "id": "7955dbb3-05ec-439e-94db-09fed8b3df05",
   "metadata": {},
   "outputs": [],
   "source": []
  }
 ],
 "metadata": {
  "kernelspec": {
   "display_name": "Python [conda env:base] *",
   "language": "python",
   "name": "conda-base-py"
  },
  "language_info": {
   "codemirror_mode": {
    "name": "ipython",
    "version": 3
   },
   "file_extension": ".py",
   "mimetype": "text/x-python",
   "name": "python",
   "nbconvert_exporter": "python",
   "pygments_lexer": "ipython3",
   "version": "3.13.5"
  }
 },
 "nbformat": 4,
 "nbformat_minor": 5
}
