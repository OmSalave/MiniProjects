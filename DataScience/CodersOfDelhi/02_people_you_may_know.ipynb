{
 "cells": [
  {
   "cell_type": "code",
   "execution_count": 139,
   "id": "1bc7ee25-69d3-4ded-be8e-40effd07690d",
   "metadata": {},
   "outputs": [],
   "source": [
    "import json "
   ]
  },
  {
   "cell_type": "code",
   "execution_count": 140,
   "id": "ad6c50ed-b303-4cc9-a469-5af791257619",
   "metadata": {},
   "outputs": [],
   "source": [
    "def load_data(filename):\n",
    "    with open(filename, \"r\") as f:\n",
    "         return json.load(f)"
   ]
  },
  {
   "cell_type": "code",
   "execution_count": 141,
   "id": "b1c9b3eb-4884-4b52-ac8f-f8d0523adba5",
   "metadata": {},
   "outputs": [],
   "source": [
    "data = load_data(\"cleaned_codebook_data.json\")"
   ]
  },
  {
   "cell_type": "code",
   "execution_count": 142,
   "id": "fc4e75f9-e29e-43a4-a367-a5a2b69df868",
   "metadata": {},
   "outputs": [
    {
     "name": "stdout",
     "output_type": "stream",
     "text": [
      "[7, 8, 9, 10, 11, 12]\n"
     ]
    }
   ],
   "source": [
    "def find_people_you_may_know(user_id, data):\n",
    "    user_friends = {}\n",
    "    for user in data[\"users\"]:\n",
    "        user_friends[user['id']] = (set(user['friends']))\n",
    "        \n",
    "    if user_id not in user_friends:\n",
    "        return []\n",
    "\n",
    "    direct_friends = user_friends[user_id]\n",
    "    suggestions = {}\n",
    "\n",
    "    for friend in direct_friends:\n",
    "        if friend in user_friends:\n",
    "            for mutual in user_friends[friend]:\n",
    "                if mutual != user_id and mutual not in direct_friends:\n",
    "                    suggestions[mutual] = suggestions.get(mutual, 0) + 1\n",
    "\n",
    "    sorted_suggestions = sorted(suggestions.items(), key= lambda x : x[1], reverse = True)\n",
    "    return [user_id  for user_id, mutual_count in sorted_suggestions]\n",
    "\n",
    "user_id = 1\n",
    "recc = find_people_you_may_know(user_id, data)\n",
    "print(recc)\n"
   ]
  },
  {
   "cell_type": "code",
   "execution_count": null,
   "id": "fc613d3e-a640-47ef-81c3-459e0f5e3655",
   "metadata": {},
   "outputs": [],
   "source": []
  }
 ],
 "metadata": {
  "kernelspec": {
   "display_name": "Python [conda env:base] *",
   "language": "python",
   "name": "conda-base-py"
  },
  "language_info": {
   "codemirror_mode": {
    "name": "ipython",
    "version": 3
   },
   "file_extension": ".py",
   "mimetype": "text/x-python",
   "name": "python",
   "nbconvert_exporter": "python",
   "pygments_lexer": "ipython3",
   "version": "3.13.5"
  }
 },
 "nbformat": 4,
 "nbformat_minor": 5
}
